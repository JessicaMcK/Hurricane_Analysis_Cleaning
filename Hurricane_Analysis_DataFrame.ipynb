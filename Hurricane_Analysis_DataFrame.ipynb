{
  "nbformat": 4,
  "nbformat_minor": 0,
  "metadata": {
    "colab": {
      "name": "Hurricane_Analysis_DataFrame.ipynb",
      "provenance": [],
      "collapsed_sections": [],
      "authorship_tag": "ABX9TyO9TXoJnmvtawDdy5FstPSV"
    },
    "kernelspec": {
      "name": "python3",
      "display_name": "Python 3"
    },
    "language_info": {
      "name": "python"
    }
  },
  "cells": [
    {
      "cell_type": "code",
      "metadata": {
        "colab": {
          "base_uri": "https://localhost:8080/"
        },
        "id": "Xg3vtrNZZG3c",
        "outputId": "03e4f714-7edd-4685-e07f-a94456fa62ff"
      },
      "source": [
        "!pip3 install pandas\n",
        "!pip install numpy\n",
        "!pip install matplotlib\n",
        "!pip install plotly_express==0.4.0"
      ],
      "execution_count": 1,
      "outputs": [
        {
          "output_type": "stream",
          "text": [
            "Requirement already satisfied: pandas in /usr/local/lib/python3.7/dist-packages (1.1.5)\n",
            "Requirement already satisfied: python-dateutil>=2.7.3 in /usr/local/lib/python3.7/dist-packages (from pandas) (2.8.1)\n",
            "Requirement already satisfied: numpy>=1.15.4 in /usr/local/lib/python3.7/dist-packages (from pandas) (1.19.5)\n",
            "Requirement already satisfied: pytz>=2017.2 in /usr/local/lib/python3.7/dist-packages (from pandas) (2018.9)\n",
            "Requirement already satisfied: six>=1.5 in /usr/local/lib/python3.7/dist-packages (from python-dateutil>=2.7.3->pandas) (1.15.0)\n",
            "Requirement already satisfied: numpy in /usr/local/lib/python3.7/dist-packages (1.19.5)\n",
            "Requirement already satisfied: matplotlib in /usr/local/lib/python3.7/dist-packages (3.2.2)\n",
            "Requirement already satisfied: numpy>=1.11 in /usr/local/lib/python3.7/dist-packages (from matplotlib) (1.19.5)\n",
            "Requirement already satisfied: pyparsing!=2.0.4,!=2.1.2,!=2.1.6,>=2.0.1 in /usr/local/lib/python3.7/dist-packages (from matplotlib) (2.4.7)\n",
            "Requirement already satisfied: cycler>=0.10 in /usr/local/lib/python3.7/dist-packages (from matplotlib) (0.10.0)\n",
            "Requirement already satisfied: kiwisolver>=1.0.1 in /usr/local/lib/python3.7/dist-packages (from matplotlib) (1.3.1)\n",
            "Requirement already satisfied: python-dateutil>=2.1 in /usr/local/lib/python3.7/dist-packages (from matplotlib) (2.8.1)\n",
            "Requirement already satisfied: six in /usr/local/lib/python3.7/dist-packages (from cycler>=0.10->matplotlib) (1.15.0)\n",
            "Collecting plotly_express==0.4.0\n",
            "  Downloading https://files.pythonhosted.org/packages/04/c2/e16037e4cc6bb9a6fb35eea102d7cffa06376fcd35e5523c880b64588778/plotly_express-0.4.0-py2.py3-none-any.whl\n",
            "Requirement already satisfied: scipy>=0.18 in /usr/local/lib/python3.7/dist-packages (from plotly_express==0.4.0) (1.4.1)\n",
            "Requirement already satisfied: pandas>=0.20.0 in /usr/local/lib/python3.7/dist-packages (from plotly_express==0.4.0) (1.1.5)\n",
            "Requirement already satisfied: statsmodels>=0.9.0 in /usr/local/lib/python3.7/dist-packages (from plotly_express==0.4.0) (0.10.2)\n",
            "Requirement already satisfied: plotly>=4.0.0 in /usr/local/lib/python3.7/dist-packages (from plotly_express==0.4.0) (4.4.1)\n",
            "Requirement already satisfied: patsy>=0.5 in /usr/local/lib/python3.7/dist-packages (from plotly_express==0.4.0) (0.5.1)\n",
            "Requirement already satisfied: numpy>=1.11 in /usr/local/lib/python3.7/dist-packages (from plotly_express==0.4.0) (1.19.5)\n",
            "Requirement already satisfied: python-dateutil>=2.7.3 in /usr/local/lib/python3.7/dist-packages (from pandas>=0.20.0->plotly_express==0.4.0) (2.8.1)\n",
            "Requirement already satisfied: pytz>=2017.2 in /usr/local/lib/python3.7/dist-packages (from pandas>=0.20.0->plotly_express==0.4.0) (2018.9)\n",
            "Requirement already satisfied: retrying>=1.3.3 in /usr/local/lib/python3.7/dist-packages (from plotly>=4.0.0->plotly_express==0.4.0) (1.3.3)\n",
            "Requirement already satisfied: six in /usr/local/lib/python3.7/dist-packages (from plotly>=4.0.0->plotly_express==0.4.0) (1.15.0)\n",
            "Installing collected packages: plotly-express\n",
            "Successfully installed plotly-express-0.4.0\n"
          ],
          "name": "stdout"
        }
      ]
    },
    {
      "cell_type": "code",
      "metadata": {
        "id": "9CAhTPCRZQLe"
      },
      "source": [
        "import pandas as pd\n",
        "import numpy as np\n",
        "from matplotlib import pyplot as plt\n",
        "import plotly.express as px"
      ],
      "execution_count": 2,
      "outputs": []
    },
    {
      "cell_type": "code",
      "metadata": {
        "id": "s8BmKfjKZYua"
      },
      "source": [
        "#Hurrican Informations as Lists\n",
        "# names of hurricanes\n",
        "names = ['Cuba I', 'San Felipe II Okeechobee', 'Bahamas', 'Cuba II', 'CubaBrownsville', 'Tampico', 'Labor Day', 'New England', 'Carol', 'Janet', 'Carla', 'Hattie', 'Beulah', 'Camille', 'Edith', 'Anita', 'David', 'Allen', 'Gilbert', 'Hugo', 'Andrew', 'Mitch', 'Isabel', 'Ivan', 'Emily', 'Katrina', 'Rita', 'Wilma', 'Dean', 'Felix', 'Matthew', 'Irma', 'Maria', 'Michael']\n",
        "\n",
        "# months of hurricanes\n",
        "months = ['October', 'September', 'September', 'November', 'August', 'September', 'September', 'September', 'September', 'September', 'September', 'October', 'September', 'August', 'September', 'September', 'August', 'August', 'September', 'September', 'August', 'October', 'September', 'September', 'July', 'August', 'September', 'October', 'August', 'September', 'October', 'September', 'September', 'October']\n",
        "\n",
        "# years of hurricanes\n",
        "years = [1924, 1928, 1932, 1932, 1933, 1933, 1935, 1938, 1953, 1955, 1961, 1961, 1967, 1969, 1971, 1977, 1979, 1980, 1988, 1989, 1992, 1998, 2003, 2004, 2005, 2005, 2005, 2005, 2007, 2007, 2016, 2017, 2017, 2018]\n",
        "\n",
        "# maximum sustained winds (mph) of hurricanes\n",
        "max_sustained_winds = [165, 160, 160, 175, 160, 160, 185, 160, 160, 175, 175, 160, 160, 175, 160, 175, 175, 190, 185, 160, 175, 180, 165, 165, 160, 175, 180, 185, 175, 175, 165, 180, 175, 160]\n",
        "\n",
        "# areas affected by each hurricane\n",
        "areas_affected = [['Central America', 'Mexico', 'Cuba', 'Florida', 'The Bahamas'], ['Lesser Antilles', 'The Bahamas', 'United States East Coast', 'Atlantic Canada'], ['The Bahamas', 'Northeastern United States'], ['Lesser Antilles', 'Jamaica', 'Cayman Islands', 'Cuba', 'The Bahamas', 'Bermuda'], ['The Bahamas', 'Cuba', 'Florida', 'Texas', 'Tamaulipas'], ['Jamaica', 'Yucatn Peninsula'], ['The Bahamas', 'Florida', 'Georgia', 'The Carolinas', 'Virginia'], ['Southeastern United States', 'Northeastern United States', 'Southwestern Quebec'], ['Bermuda', 'New England', 'Atlantic Canada'], ['Lesser Antilles', 'Central America'], ['Texas', 'Louisiana', 'Midwestern United States'], ['Central America'], ['The Caribbean', 'Mexico', 'Texas'], ['Cuba', 'United States Gulf Coast'], ['The Caribbean', 'Central America', 'Mexico', 'United States Gulf Coast'], ['Mexico'], ['The Caribbean', 'United States East coast'], ['The Caribbean', 'Yucatn Peninsula', 'Mexico', 'South Texas'], ['Jamaica', 'Venezuela', 'Central America', 'Hispaniola', 'Mexico'], ['The Caribbean', 'United States East Coast'], ['The Bahamas', 'Florida', 'United States Gulf Coast'], ['Central America', 'Yucatn Peninsula', 'South Florida'], ['Greater Antilles', 'Bahamas', 'Eastern United States', 'Ontario'], ['The Caribbean', 'Venezuela', 'United States Gulf Coast'], ['Windward Islands', 'Jamaica', 'Mexico', 'Texas'], ['Bahamas', 'United States Gulf Coast'], ['Cuba', 'United States Gulf Coast'], ['Greater Antilles', 'Central America', 'Florida'], ['The Caribbean', 'Central America'], ['Nicaragua', 'Honduras'], ['Antilles', 'Venezuela', 'Colombia', 'United States East Coast', 'Atlantic Canada'], ['Cape Verde', 'The Caribbean', 'British Virgin Islands', 'U.S. Virgin Islands', 'Cuba', 'Florida'], ['Lesser Antilles', 'Virgin Islands', 'Puerto Rico', 'Dominican Republic', 'Turks and Caicos Islands'], ['Central America', 'United States Gulf Coast (especially Florida Panhandle)']]\n",
        "\n",
        "# damages (USD($)) of hurricanes\n",
        "damages = ['Damages not recorded', '100M', 'Damages not recorded', '40M', '27.9M', '5M', 'Damages not recorded', '306M', '2M', '65.8M', '326M', '60.3M', '208M', '1.42B', '25.4M', 'Damages not recorded', '1.54B', '1.24B', '7.1B', '10B', '26.5B', '6.2B', '5.37B', '23.3B', '1.01B', '125B', '12B', '29.4B', '1.76B', '720M', '15.1B', '64.8B', '91.6B', '25.1B']\n",
        "\n",
        "# deaths for each hurricane\n",
        "deaths = [90,4000,16,3103,179,184,408,682,5,1023,43,319,688,259,37,11,2068,269,318,107,65,19325,51,124,17,1836,125,87,45,133,603,138,3057,74]"
      ],
      "execution_count": 3,
      "outputs": []
    },
    {
      "cell_type": "code",
      "metadata": {
        "colab": {
          "base_uri": "https://localhost:8080/",
          "height": 357
        },
        "id": "VE0yLPgCZdnZ",
        "outputId": "342a2a0f-a79d-4137-a701-f1cb0e885b18"
      },
      "source": [
        "#Create a DataFrame from Lists\n",
        "df = pd.DataFrame({'Names' : names, 'Months' : months, 'Years' : years, 'Max Sustained Winds': max_sustained_winds, 'Areas Affected':areas_affected, 'Damages': damages, 'Deaths': deaths}) \n",
        "df.head(10)  "
      ],
      "execution_count": 4,
      "outputs": [
        {
          "output_type": "execute_result",
          "data": {
            "text/html": [
              "<div>\n",
              "<style scoped>\n",
              "    .dataframe tbody tr th:only-of-type {\n",
              "        vertical-align: middle;\n",
              "    }\n",
              "\n",
              "    .dataframe tbody tr th {\n",
              "        vertical-align: top;\n",
              "    }\n",
              "\n",
              "    .dataframe thead th {\n",
              "        text-align: right;\n",
              "    }\n",
              "</style>\n",
              "<table border=\"1\" class=\"dataframe\">\n",
              "  <thead>\n",
              "    <tr style=\"text-align: right;\">\n",
              "      <th></th>\n",
              "      <th>Names</th>\n",
              "      <th>Months</th>\n",
              "      <th>Years</th>\n",
              "      <th>Max Sustained Winds</th>\n",
              "      <th>Areas Affected</th>\n",
              "      <th>Damages</th>\n",
              "      <th>Deaths</th>\n",
              "    </tr>\n",
              "  </thead>\n",
              "  <tbody>\n",
              "    <tr>\n",
              "      <th>0</th>\n",
              "      <td>Cuba I</td>\n",
              "      <td>October</td>\n",
              "      <td>1924</td>\n",
              "      <td>165</td>\n",
              "      <td>[Central America, Mexico, Cuba, Florida, The B...</td>\n",
              "      <td>Damages not recorded</td>\n",
              "      <td>90</td>\n",
              "    </tr>\n",
              "    <tr>\n",
              "      <th>1</th>\n",
              "      <td>San Felipe II Okeechobee</td>\n",
              "      <td>September</td>\n",
              "      <td>1928</td>\n",
              "      <td>160</td>\n",
              "      <td>[Lesser Antilles, The Bahamas, United States E...</td>\n",
              "      <td>100M</td>\n",
              "      <td>4000</td>\n",
              "    </tr>\n",
              "    <tr>\n",
              "      <th>2</th>\n",
              "      <td>Bahamas</td>\n",
              "      <td>September</td>\n",
              "      <td>1932</td>\n",
              "      <td>160</td>\n",
              "      <td>[The Bahamas, Northeastern United States]</td>\n",
              "      <td>Damages not recorded</td>\n",
              "      <td>16</td>\n",
              "    </tr>\n",
              "    <tr>\n",
              "      <th>3</th>\n",
              "      <td>Cuba II</td>\n",
              "      <td>November</td>\n",
              "      <td>1932</td>\n",
              "      <td>175</td>\n",
              "      <td>[Lesser Antilles, Jamaica, Cayman Islands, Cub...</td>\n",
              "      <td>40M</td>\n",
              "      <td>3103</td>\n",
              "    </tr>\n",
              "    <tr>\n",
              "      <th>4</th>\n",
              "      <td>CubaBrownsville</td>\n",
              "      <td>August</td>\n",
              "      <td>1933</td>\n",
              "      <td>160</td>\n",
              "      <td>[The Bahamas, Cuba, Florida, Texas, Tamaulipas]</td>\n",
              "      <td>27.9M</td>\n",
              "      <td>179</td>\n",
              "    </tr>\n",
              "    <tr>\n",
              "      <th>5</th>\n",
              "      <td>Tampico</td>\n",
              "      <td>September</td>\n",
              "      <td>1933</td>\n",
              "      <td>160</td>\n",
              "      <td>[Jamaica, Yucatn Peninsula]</td>\n",
              "      <td>5M</td>\n",
              "      <td>184</td>\n",
              "    </tr>\n",
              "    <tr>\n",
              "      <th>6</th>\n",
              "      <td>Labor Day</td>\n",
              "      <td>September</td>\n",
              "      <td>1935</td>\n",
              "      <td>185</td>\n",
              "      <td>[The Bahamas, Florida, Georgia, The Carolinas,...</td>\n",
              "      <td>Damages not recorded</td>\n",
              "      <td>408</td>\n",
              "    </tr>\n",
              "    <tr>\n",
              "      <th>7</th>\n",
              "      <td>New England</td>\n",
              "      <td>September</td>\n",
              "      <td>1938</td>\n",
              "      <td>160</td>\n",
              "      <td>[Southeastern United States, Northeastern Unit...</td>\n",
              "      <td>306M</td>\n",
              "      <td>682</td>\n",
              "    </tr>\n",
              "    <tr>\n",
              "      <th>8</th>\n",
              "      <td>Carol</td>\n",
              "      <td>September</td>\n",
              "      <td>1953</td>\n",
              "      <td>160</td>\n",
              "      <td>[Bermuda, New England, Atlantic Canada]</td>\n",
              "      <td>2M</td>\n",
              "      <td>5</td>\n",
              "    </tr>\n",
              "    <tr>\n",
              "      <th>9</th>\n",
              "      <td>Janet</td>\n",
              "      <td>September</td>\n",
              "      <td>1955</td>\n",
              "      <td>175</td>\n",
              "      <td>[Lesser Antilles, Central America]</td>\n",
              "      <td>65.8M</td>\n",
              "      <td>1023</td>\n",
              "    </tr>\n",
              "  </tbody>\n",
              "</table>\n",
              "</div>"
            ],
            "text/plain": [
              "                      Names     Months  ...               Damages  Deaths\n",
              "0                    Cuba I    October  ...  Damages not recorded      90\n",
              "1  San Felipe II Okeechobee  September  ...                  100M    4000\n",
              "2                   Bahamas  September  ...  Damages not recorded      16\n",
              "3                   Cuba II   November  ...                   40M    3103\n",
              "4           CubaBrownsville     August  ...                 27.9M     179\n",
              "5                   Tampico  September  ...                    5M     184\n",
              "6                 Labor Day  September  ...  Damages not recorded     408\n",
              "7               New England  September  ...                  306M     682\n",
              "8                     Carol  September  ...                    2M       5\n",
              "9                     Janet  September  ...                 65.8M    1023\n",
              "\n",
              "[10 rows x 7 columns]"
            ]
          },
          "metadata": {
            "tags": []
          },
          "execution_count": 4
        }
      ]
    },
    {
      "cell_type": "code",
      "metadata": {
        "id": "-b_7hv7dZorR"
      },
      "source": [
        "#Change Areas Affected to str\n",
        "df[\"Areas Affected\"]=df[\"Areas Affected\"].astype(str)\n"
      ],
      "execution_count": 5,
      "outputs": []
    },
    {
      "cell_type": "code",
      "metadata": {
        "id": "lmszvLqFZ8Pr"
      },
      "source": [
        "#Remove brackets from Areas Affected\n",
        "df[\"Areas Affected\"] = df[\"Areas Affected\"].replace('[\\[|\\]]', '', regex=True)"
      ],
      "execution_count": 6,
      "outputs": []
    },
    {
      "cell_type": "code",
      "metadata": {
        "id": "MPpz_zqtL-19"
      },
      "source": [
        "#Convert M and B into 1000000 and 100000000 into a new list\n",
        "\n",
        "def convert_damages_data(damages):\n",
        "  conversion = {\"M\": 1000000, \"B\": 1000000000}\n",
        "  updated_damages = []\n",
        "  for damage in damages:\n",
        "    if damage == \"Damages not recorded\":\n",
        "      updated_damages.append(0)\n",
        "    if damage.find('M') != -1:\n",
        "      updated_damages.append(float(damage[0:damage.find('M')])*conversion[\"M\"])\n",
        "    if damage.find('B') != -1:\n",
        "      updated_damages.append(float(damage[0:damage.find('B')])*conversion[\"B\"])\n",
        "  return updated_damages\n",
        "\n",
        "# update damages data\n",
        "updated_damages = convert_damages_data(damages)"
      ],
      "execution_count": 7,
      "outputs": []
    },
    {
      "cell_type": "code",
      "metadata": {
        "colab": {
          "base_uri": "https://localhost:8080/"
        },
        "id": "Aq1SMl9vb4Me",
        "outputId": "3c5adf08-6e24-4f5d-f823-ee39d15a125b"
      },
      "source": [
        "updated_damages"
      ],
      "execution_count": 8,
      "outputs": [
        {
          "output_type": "execute_result",
          "data": {
            "text/plain": [
              "[0,\n",
              " 100000000.0,\n",
              " 0,\n",
              " 40000000.0,\n",
              " 27900000.0,\n",
              " 5000000.0,\n",
              " 0,\n",
              " 306000000.0,\n",
              " 2000000.0,\n",
              " 65800000.0,\n",
              " 326000000.0,\n",
              " 60300000.0,\n",
              " 208000000.0,\n",
              " 1420000000.0,\n",
              " 25400000.0,\n",
              " 0,\n",
              " 1540000000.0,\n",
              " 1240000000.0,\n",
              " 7100000000.0,\n",
              " 10000000000.0,\n",
              " 26500000000.0,\n",
              " 6200000000.0,\n",
              " 5370000000.0,\n",
              " 23300000000.0,\n",
              " 1010000000.0,\n",
              " 125000000000.0,\n",
              " 12000000000.0,\n",
              " 29400000000.0,\n",
              " 1760000000.0,\n",
              " 720000000.0,\n",
              " 15100000000.0,\n",
              " 64800000000.0,\n",
              " 91600000000.0,\n",
              " 25100000000.0]"
            ]
          },
          "metadata": {
            "tags": []
          },
          "execution_count": 8
        }
      ]
    },
    {
      "cell_type": "code",
      "metadata": {
        "id": "I2G7I-ILMj4b"
      },
      "source": [
        "#Add updated damages list into DataFrame\n",
        "df['Updated Damages'] = updated_damages"
      ],
      "execution_count": 9,
      "outputs": []
    },
    {
      "cell_type": "code",
      "metadata": {
        "colab": {
          "base_uri": "https://localhost:8080/",
          "height": 357
        },
        "id": "EKo8p3HhnBKz",
        "outputId": "63c68efe-ecbc-4458-e4dc-8d11ee07b729"
      },
      "source": [
        "#Updated DataFrame\n",
        "df.head(10)"
      ],
      "execution_count": 10,
      "outputs": [
        {
          "output_type": "execute_result",
          "data": {
            "text/html": [
              "<div>\n",
              "<style scoped>\n",
              "    .dataframe tbody tr th:only-of-type {\n",
              "        vertical-align: middle;\n",
              "    }\n",
              "\n",
              "    .dataframe tbody tr th {\n",
              "        vertical-align: top;\n",
              "    }\n",
              "\n",
              "    .dataframe thead th {\n",
              "        text-align: right;\n",
              "    }\n",
              "</style>\n",
              "<table border=\"1\" class=\"dataframe\">\n",
              "  <thead>\n",
              "    <tr style=\"text-align: right;\">\n",
              "      <th></th>\n",
              "      <th>Names</th>\n",
              "      <th>Months</th>\n",
              "      <th>Years</th>\n",
              "      <th>Max Sustained Winds</th>\n",
              "      <th>Areas Affected</th>\n",
              "      <th>Damages</th>\n",
              "      <th>Deaths</th>\n",
              "      <th>Updated Damages</th>\n",
              "    </tr>\n",
              "  </thead>\n",
              "  <tbody>\n",
              "    <tr>\n",
              "      <th>0</th>\n",
              "      <td>Cuba I</td>\n",
              "      <td>October</td>\n",
              "      <td>1924</td>\n",
              "      <td>165</td>\n",
              "      <td>'Central America', 'Mexico', 'Cuba', 'Florida'...</td>\n",
              "      <td>Damages not recorded</td>\n",
              "      <td>90</td>\n",
              "      <td>0.0</td>\n",
              "    </tr>\n",
              "    <tr>\n",
              "      <th>1</th>\n",
              "      <td>San Felipe II Okeechobee</td>\n",
              "      <td>September</td>\n",
              "      <td>1928</td>\n",
              "      <td>160</td>\n",
              "      <td>'Lesser Antilles', 'The Bahamas', 'United Stat...</td>\n",
              "      <td>100M</td>\n",
              "      <td>4000</td>\n",
              "      <td>100000000.0</td>\n",
              "    </tr>\n",
              "    <tr>\n",
              "      <th>2</th>\n",
              "      <td>Bahamas</td>\n",
              "      <td>September</td>\n",
              "      <td>1932</td>\n",
              "      <td>160</td>\n",
              "      <td>'The Bahamas', 'Northeastern United States'</td>\n",
              "      <td>Damages not recorded</td>\n",
              "      <td>16</td>\n",
              "      <td>0.0</td>\n",
              "    </tr>\n",
              "    <tr>\n",
              "      <th>3</th>\n",
              "      <td>Cuba II</td>\n",
              "      <td>November</td>\n",
              "      <td>1932</td>\n",
              "      <td>175</td>\n",
              "      <td>'Lesser Antilles', 'Jamaica', 'Cayman Islands'...</td>\n",
              "      <td>40M</td>\n",
              "      <td>3103</td>\n",
              "      <td>40000000.0</td>\n",
              "    </tr>\n",
              "    <tr>\n",
              "      <th>4</th>\n",
              "      <td>CubaBrownsville</td>\n",
              "      <td>August</td>\n",
              "      <td>1933</td>\n",
              "      <td>160</td>\n",
              "      <td>'The Bahamas', 'Cuba', 'Florida', 'Texas', 'Ta...</td>\n",
              "      <td>27.9M</td>\n",
              "      <td>179</td>\n",
              "      <td>27900000.0</td>\n",
              "    </tr>\n",
              "    <tr>\n",
              "      <th>5</th>\n",
              "      <td>Tampico</td>\n",
              "      <td>September</td>\n",
              "      <td>1933</td>\n",
              "      <td>160</td>\n",
              "      <td>'Jamaica', 'Yucatn Peninsula'</td>\n",
              "      <td>5M</td>\n",
              "      <td>184</td>\n",
              "      <td>5000000.0</td>\n",
              "    </tr>\n",
              "    <tr>\n",
              "      <th>6</th>\n",
              "      <td>Labor Day</td>\n",
              "      <td>September</td>\n",
              "      <td>1935</td>\n",
              "      <td>185</td>\n",
              "      <td>'The Bahamas', 'Florida', 'Georgia', 'The Caro...</td>\n",
              "      <td>Damages not recorded</td>\n",
              "      <td>408</td>\n",
              "      <td>0.0</td>\n",
              "    </tr>\n",
              "    <tr>\n",
              "      <th>7</th>\n",
              "      <td>New England</td>\n",
              "      <td>September</td>\n",
              "      <td>1938</td>\n",
              "      <td>160</td>\n",
              "      <td>'Southeastern United States', 'Northeastern Un...</td>\n",
              "      <td>306M</td>\n",
              "      <td>682</td>\n",
              "      <td>306000000.0</td>\n",
              "    </tr>\n",
              "    <tr>\n",
              "      <th>8</th>\n",
              "      <td>Carol</td>\n",
              "      <td>September</td>\n",
              "      <td>1953</td>\n",
              "      <td>160</td>\n",
              "      <td>'Bermuda', 'New England', 'Atlantic Canada'</td>\n",
              "      <td>2M</td>\n",
              "      <td>5</td>\n",
              "      <td>2000000.0</td>\n",
              "    </tr>\n",
              "    <tr>\n",
              "      <th>9</th>\n",
              "      <td>Janet</td>\n",
              "      <td>September</td>\n",
              "      <td>1955</td>\n",
              "      <td>175</td>\n",
              "      <td>'Lesser Antilles', 'Central America'</td>\n",
              "      <td>65.8M</td>\n",
              "      <td>1023</td>\n",
              "      <td>65800000.0</td>\n",
              "    </tr>\n",
              "  </tbody>\n",
              "</table>\n",
              "</div>"
            ],
            "text/plain": [
              "                      Names     Months  ...  Deaths  Updated Damages\n",
              "0                    Cuba I    October  ...      90              0.0\n",
              "1  San Felipe II Okeechobee  September  ...    4000      100000000.0\n",
              "2                   Bahamas  September  ...      16              0.0\n",
              "3                   Cuba II   November  ...    3103       40000000.0\n",
              "4           CubaBrownsville     August  ...     179       27900000.0\n",
              "5                   Tampico  September  ...     184        5000000.0\n",
              "6                 Labor Day  September  ...     408              0.0\n",
              "7               New England  September  ...     682      306000000.0\n",
              "8                     Carol  September  ...       5        2000000.0\n",
              "9                     Janet  September  ...    1023       65800000.0\n",
              "\n",
              "[10 rows x 8 columns]"
            ]
          },
          "metadata": {
            "tags": []
          },
          "execution_count": 10
        }
      ]
    },
    {
      "cell_type": "code",
      "metadata": {
        "colab": {
          "base_uri": "https://localhost:8080/"
        },
        "id": "nFcz-oCMzsG3",
        "outputId": "d619176c-e93f-4cce-fff4-095cd0403a7d"
      },
      "source": [
        "df.dtypes"
      ],
      "execution_count": 11,
      "outputs": [
        {
          "output_type": "execute_result",
          "data": {
            "text/plain": [
              "Names                   object\n",
              "Months                  object\n",
              "Years                    int64\n",
              "Max Sustained Winds      int64\n",
              "Areas Affected          object\n",
              "Damages                 object\n",
              "Deaths                   int64\n",
              "Updated Damages        float64\n",
              "dtype: object"
            ]
          },
          "metadata": {
            "tags": []
          },
          "execution_count": 11
        }
      ]
    },
    {
      "cell_type": "code",
      "metadata": {
        "colab": {
          "base_uri": "https://localhost:8080/",
          "height": 295
        },
        "id": "h5YzlOIkssts",
        "outputId": "71d95974-2acc-4216-8908-8efdd460d4bc"
      },
      "source": [
        "#line graph for damages between 1984-2018\n",
        "updated_years = list(map(str, range(1984,2018)))\n",
        "plt.plot(updated_years, updated_damages)\n",
        "plt.title('Hurricane Damages Between 1984-2018')\n",
        "plt.xlabel('Years')\n",
        "plt.ylabel('Damages')\n",
        "\n",
        "plt.show()"
      ],
      "execution_count": 12,
      "outputs": [
        {
          "output_type": "display_data",
          "data": {
            "image/png": "[encoded data removed]",
            "text/plain": [
              "<Figure size 432x288 with 1 Axes>"
            ]
          },
          "metadata": {
            "tags": [],
            "needs_background": "light"
          }
        }
      ]
    },
    {
      "cell_type": "code",
      "metadata": {
        "colab": {
          "base_uri": "https://localhost:8080/",
          "height": 357
        },
        "id": "J_XLAGoz2WKc",
        "outputId": "78f10ff4-af4d-4638-ad72-d31ec1fe1e6e"
      },
      "source": [
        "#Top 10 Highest Winds including the hurrican names\n",
        "df_winds = pd.DataFrame({'Names' : names, 'Max Sustained Winds': max_sustained_winds})\n",
        "top_winds=df_winds.sort_values(by=['Max Sustained Winds'], ascending= False)\n",
        "top_winds.head(10)\n"
      ],
      "execution_count": 13,
      "outputs": [
        {
          "output_type": "execute_result",
          "data": {
            "text/html": [
              "<div>\n",
              "<style scoped>\n",
              "    .dataframe tbody tr th:only-of-type {\n",
              "        vertical-align: middle;\n",
              "    }\n",
              "\n",
              "    .dataframe tbody tr th {\n",
              "        vertical-align: top;\n",
              "    }\n",
              "\n",
              "    .dataframe thead th {\n",
              "        text-align: right;\n",
              "    }\n",
              "</style>\n",
              "<table border=\"1\" class=\"dataframe\">\n",
              "  <thead>\n",
              "    <tr style=\"text-align: right;\">\n",
              "      <th></th>\n",
              "      <th>Names</th>\n",
              "      <th>Max Sustained Winds</th>\n",
              "    </tr>\n",
              "  </thead>\n",
              "  <tbody>\n",
              "    <tr>\n",
              "      <th>17</th>\n",
              "      <td>Allen</td>\n",
              "      <td>190</td>\n",
              "    </tr>\n",
              "    <tr>\n",
              "      <th>27</th>\n",
              "      <td>Wilma</td>\n",
              "      <td>185</td>\n",
              "    </tr>\n",
              "    <tr>\n",
              "      <th>18</th>\n",
              "      <td>Gilbert</td>\n",
              "      <td>185</td>\n",
              "    </tr>\n",
              "    <tr>\n",
              "      <th>6</th>\n",
              "      <td>Labor Day</td>\n",
              "      <td>185</td>\n",
              "    </tr>\n",
              "    <tr>\n",
              "      <th>31</th>\n",
              "      <td>Irma</td>\n",
              "      <td>180</td>\n",
              "    </tr>\n",
              "    <tr>\n",
              "      <th>26</th>\n",
              "      <td>Rita</td>\n",
              "      <td>180</td>\n",
              "    </tr>\n",
              "    <tr>\n",
              "      <th>21</th>\n",
              "      <td>Mitch</td>\n",
              "      <td>180</td>\n",
              "    </tr>\n",
              "    <tr>\n",
              "      <th>16</th>\n",
              "      <td>David</td>\n",
              "      <td>175</td>\n",
              "    </tr>\n",
              "    <tr>\n",
              "      <th>15</th>\n",
              "      <td>Anita</td>\n",
              "      <td>175</td>\n",
              "    </tr>\n",
              "    <tr>\n",
              "      <th>25</th>\n",
              "      <td>Katrina</td>\n",
              "      <td>175</td>\n",
              "    </tr>\n",
              "  </tbody>\n",
              "</table>\n",
              "</div>"
            ],
            "text/plain": [
              "        Names  Max Sustained Winds\n",
              "17      Allen                  190\n",
              "27      Wilma                  185\n",
              "18    Gilbert                  185\n",
              "6   Labor Day                  185\n",
              "31       Irma                  180\n",
              "26       Rita                  180\n",
              "21      Mitch                  180\n",
              "16      David                  175\n",
              "15      Anita                  175\n",
              "25    Katrina                  175"
            ]
          },
          "metadata": {
            "tags": []
          },
          "execution_count": 13
        }
      ]
    },
    {
      "cell_type": "code",
      "metadata": {
        "colab": {
          "base_uri": "https://localhost:8080/",
          "height": 80
        },
        "id": "p9Q0kISwQTYW",
        "outputId": "63fce029-0bb8-4629-ca3f-1b7bab044896"
      },
      "source": [
        "#Hurricane with the highest mortality rate\n",
        "df_mortality = pd.DataFrame({'Names' : names, 'Deaths': deaths})\n",
        "highest_mortality=df_mortality.sort_values(by=['Deaths'], ascending= False)\n",
        "highest_mortality.head(1)"
      ],
      "execution_count": 14,
      "outputs": [
        {
          "output_type": "execute_result",
          "data": {
            "text/html": [
              "<div>\n",
              "<style scoped>\n",
              "    .dataframe tbody tr th:only-of-type {\n",
              "        vertical-align: middle;\n",
              "    }\n",
              "\n",
              "    .dataframe tbody tr th {\n",
              "        vertical-align: top;\n",
              "    }\n",
              "\n",
              "    .dataframe thead th {\n",
              "        text-align: right;\n",
              "    }\n",
              "</style>\n",
              "<table border=\"1\" class=\"dataframe\">\n",
              "  <thead>\n",
              "    <tr style=\"text-align: right;\">\n",
              "      <th></th>\n",
              "      <th>Names</th>\n",
              "      <th>Deaths</th>\n",
              "    </tr>\n",
              "  </thead>\n",
              "  <tbody>\n",
              "    <tr>\n",
              "      <th>21</th>\n",
              "      <td>Mitch</td>\n",
              "      <td>19325</td>\n",
              "    </tr>\n",
              "  </tbody>\n",
              "</table>\n",
              "</div>"
            ],
            "text/plain": [
              "    Names  Deaths\n",
              "21  Mitch   19325"
            ]
          },
          "metadata": {
            "tags": []
          },
          "execution_count": 14
        }
      ]
    }
  ]
}